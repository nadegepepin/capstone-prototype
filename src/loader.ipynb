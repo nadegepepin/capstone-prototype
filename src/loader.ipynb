{
 "cells": [
  {
   "cell_type": "code",
   "execution_count": null,
   "metadata": {},
   "outputs": [],
   "source": [
    "import pandas as pd\n",
    "import h5py\n",
    "from pathlib import Path\n",
    "import logging\n",
    "import logging.config\n",
    "import yaml\n",
    "import h5py\n",
    "import numpy as np\n",
    "import matplotlib.pyplot as plt\n",
    "\n",
    "import storage\n",
    "import extraction\n",
    "\n",
    "%matplotlib inline"
   ]
  },
  {
   "cell_type": "code",
   "execution_count": null,
   "metadata": {},
   "outputs": [],
   "source": [
    "def setupLogging():\n",
    "    with open('../config/logConfig.yml', 'rt') as file:\n",
    "        config = yaml.safe_load(file.read())\n",
    "        logging.config.dictConfig(config)"
   ]
  },
  {
   "cell_type": "code",
   "execution_count": null,
   "metadata": {},
   "outputs": [],
   "source": [
    "setupLogging()"
   ]
  },
  {
   "cell_type": "code",
   "execution_count": null,
   "metadata": {},
   "outputs": [],
   "source": [
    "# Read TSV files\n",
    "\n",
    "train_df = pd.read_table('../data/Train_GCC-training.tsv', header = None, names = ['caption', 'url'] )\n",
    "#validate_df = pd.read_table('../data/Validation_GCC 1.1.0-Validation.tsv', header = None, names = ['caption', 'url']) \n",
    "\n",
    "train_df.head(20)"
   ]
  },
  {
   "cell_type": "code",
   "execution_count": null,
   "metadata": {},
   "outputs": [],
   "source": [
    "# Get last stored index\n",
    "start_index = storage.get_last_stored_index(\"train\")\n",
    "print(start_index)"
   ]
  },
  {
   "cell_type": "code",
   "execution_count": null,
   "metadata": {},
   "outputs": [],
   "source": [
    "# Extracts image and caption from tsv and store padded(image),caption and HTTPStatus code\n",
    "# into a train or validation hdf5 file\n",
    "\n",
    "# Set image size\n",
    "size = 300 , 300 \n",
    "\n",
    "# Extraction and Storage\n",
    "#extraction.request_data_and_store(validate_df, size, \"validate\", start_index) \n",
    "#extraction.request_data_and_store(train_df, size, \"train\", start_index - 100)\n",
    "extraction.request_data_and_store(train_df, size, \"train\", start_index)\n",
    " "
   ]
  },
  {
   "cell_type": "code",
   "execution_count": null,
   "metadata": {},
   "outputs": [],
   "source": []
  },
  {
   "cell_type": "code",
   "execution_count": null,
   "metadata": {},
   "outputs": [],
   "source": []
  },
  {
   "cell_type": "code",
   "execution_count": null,
   "metadata": {},
   "outputs": [],
   "source": []
  },
  {
   "cell_type": "code",
   "execution_count": null,
   "metadata": {},
   "outputs": [],
   "source": []
  },
  {
   "cell_type": "code",
   "execution_count": null,
   "metadata": {},
   "outputs": [],
   "source": [
    "df = storage.get_statuses(\"validation\")"
   ]
  },
  {
   "cell_type": "code",
   "execution_count": null,
   "metadata": {},
   "outputs": [],
   "source": [
    "print(df[\"statuscode\"].unique().tolist())\n",
    "print(df[\"statuscode\"].value_counts().tolist())\n",
    "\n",
    "plt.hist(df[\"statuscode\"], bins = 18)\n",
    "plt.style.use('ggplot')\n",
    "plt.show()\n",
    "\n",
    "print(df[\"statuscode\"].value_counts())"
   ]
  },
  {
   "cell_type": "code",
   "execution_count": null,
   "metadata": {
    "scrolled": true
   },
   "outputs": [],
   "source": [
    "\n",
    "labels = df[\"statuscode\"].value_counts().keys().tolist()\n",
    "sizes = df[\"statuscode\"].value_counts().tolist()\n",
    "explode = np.zeros(18)\n",
    "explode[1:18] = 0.1\n",
    "\n",
    "fig1, ax1 = plt.subplots()\n",
    "ax1.pie(sizes, labels=labels, explode=explode, radius=4000, shadow=True, startangle=90)\n",
    "ax1.axis('equal')  # Equal aspect ratio ensures that pie is drawn as a circle.\n",
    "\n",
    "plt.show()"
   ]
  },
  {
   "cell_type": "code",
   "execution_count": null,
   "metadata": {},
   "outputs": [],
   "source": [
    "from itertools import islice\n",
    "df = pd.DataFrame(columns = ['statuscode'])\n",
    "df.astype({'statuscode': 'int32'})\n",
    "df[\"statuscode\"] = ['a','b','c','d','e','f','g','h','i','j','k','l']"
   ]
  },
  {
   "cell_type": "raw",
   "metadata": {},
   "source": [
    "\n",
    "\n"
   ]
  },
  {
   "cell_type": "code",
   "execution_count": null,
   "metadata": {},
   "outputs": [],
   "source": [
    "for index, row in islice(df[\"statuscode\"].iteritems(), 5, None):\n",
    "    print(str(index) +\"--\"+ row)"
   ]
  },
  {
   "cell_type": "code",
   "execution_count": null,
   "metadata": {},
   "outputs": [],
   "source": []
  }
 ],
 "metadata": {
  "kernelspec": {
   "display_name": "Python 3",
   "language": "python",
   "name": "python3"
  },
  "language_info": {
   "codemirror_mode": {
    "name": "ipython",
    "version": 3
   },
   "file_extension": ".py",
   "mimetype": "text/x-python",
   "name": "python",
   "nbconvert_exporter": "python",
   "pygments_lexer": "ipython3",
   "version": "3.7.5"
  }
 },
 "nbformat": 4,
 "nbformat_minor": 2
}
