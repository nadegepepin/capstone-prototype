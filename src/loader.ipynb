{
 "cells": [
  {
   "cell_type": "code",
   "execution_count": 1,
   "metadata": {},
   "outputs": [],
   "source": [
    "import pandas as pd\n",
    "import h5py\n",
    "from pathlib import Path\n",
    "import logging\n",
    "import logging.config\n",
    "import yaml\n",
    "import h5py\n",
    "import numpy as np\n",
    "import matplotlib.pyplot as plt\n",
    "\n",
    "import storage\n",
    "import extraction\n",
    "\n",
    "%matplotlib inline"
   ]
  },
  {
   "cell_type": "code",
   "execution_count": 2,
   "metadata": {},
   "outputs": [],
   "source": [
    "def setupLogging():\n",
    "    with open('../config/logConfig.yml', 'rt') as file:\n",
    "        config = yaml.safe_load(file.read())\n",
    "        logging.config.dictConfig(config)"
   ]
  },
  {
   "cell_type": "code",
   "execution_count": 3,
   "metadata": {},
   "outputs": [],
   "source": [
    "setupLogging()"
   ]
  },
  {
   "cell_type": "code",
   "execution_count": 4,
   "metadata": {},
   "outputs": [
    {
     "data": {
      "text/html": [
       "<div>\n",
       "<style scoped>\n",
       "    .dataframe tbody tr th:only-of-type {\n",
       "        vertical-align: middle;\n",
       "    }\n",
       "\n",
       "    .dataframe tbody tr th {\n",
       "        vertical-align: top;\n",
       "    }\n",
       "\n",
       "    .dataframe thead th {\n",
       "        text-align: right;\n",
       "    }\n",
       "</style>\n",
       "<table border=\"1\" class=\"dataframe\">\n",
       "  <thead>\n",
       "    <tr style=\"text-align: right;\">\n",
       "      <th></th>\n",
       "      <th>caption</th>\n",
       "      <th>url</th>\n",
       "    </tr>\n",
       "  </thead>\n",
       "  <tbody>\n",
       "    <tr>\n",
       "      <th>0</th>\n",
       "      <td>a very typical bus station</td>\n",
       "      <td>http://lh6.ggpht.com/-IvRtNLNcG8o/TpFyrudaT6I/...</td>\n",
       "    </tr>\n",
       "    <tr>\n",
       "      <th>1</th>\n",
       "      <td>sierra looked stunning in this top and this sk...</td>\n",
       "      <td>http://78.media.tumblr.com/3b133294bdc7c7784b7...</td>\n",
       "    </tr>\n",
       "    <tr>\n",
       "      <th>2</th>\n",
       "      <td>young confused girl standing in front of a war...</td>\n",
       "      <td>https://media.gettyimages.com/photos/young-con...</td>\n",
       "    </tr>\n",
       "    <tr>\n",
       "      <th>3</th>\n",
       "      <td>interior design of modern living room with fir...</td>\n",
       "      <td>https://thumb1.shutterstock.com/display_pic_wi...</td>\n",
       "    </tr>\n",
       "    <tr>\n",
       "      <th>4</th>\n",
       "      <td>cybernetic scene isolated on white background .</td>\n",
       "      <td>https://thumb1.shutterstock.com/display_pic_wi...</td>\n",
       "    </tr>\n",
       "    <tr>\n",
       "      <th>5</th>\n",
       "      <td>gangsta rap artist attends sports team vs play...</td>\n",
       "      <td>https://media.gettyimages.com/photos/jayz-atte...</td>\n",
       "    </tr>\n",
       "    <tr>\n",
       "      <th>6</th>\n",
       "      <td>the jetty : different types of plants to estab...</td>\n",
       "      <td>https://prismpub.com/wp-content/uploads/2016/1...</td>\n",
       "    </tr>\n",
       "    <tr>\n",
       "      <th>7</th>\n",
       "      <td>traditional ornamental floral paisley bandanna .</td>\n",
       "      <td>https://thumb1.shutterstock.com/display_pic_wi...</td>\n",
       "    </tr>\n",
       "    <tr>\n",
       "      <th>8</th>\n",
       "      <td># of the sports team skates against sports tea...</td>\n",
       "      <td>https://media.gettyimages.com/photos/bryan-mcc...</td>\n",
       "    </tr>\n",
       "    <tr>\n",
       "      <th>9</th>\n",
       "      <td>by geographical feature category or in the cit...</td>\n",
       "      <td>http://www.robinhoodshow.com/clients/17668/864...</td>\n",
       "    </tr>\n",
       "    <tr>\n",
       "      <th>10</th>\n",
       "      <td>a flight was traveling when the animal got fre...</td>\n",
       "      <td>http://i.dailymail.co.uk/i/pix/2016/08/10/15/3...</td>\n",
       "    </tr>\n",
       "    <tr>\n",
       "      <th>11</th>\n",
       "      <td>even though agricultural conditions are not id...</td>\n",
       "      <td>https://www.swissinfo.ch/image/40654192/3x2/10...</td>\n",
       "    </tr>\n",
       "    <tr>\n",
       "      <th>12</th>\n",
       "      <td>us state speaks during a demonstration thursday .</td>\n",
       "      <td>http://image.dailyfreeman.com/storyimage/DF/20...</td>\n",
       "    </tr>\n",
       "    <tr>\n",
       "      <th>13</th>\n",
       "      <td>actor arrives for the premiere of the film</td>\n",
       "      <td>https://media.gettyimages.com/photos/actor-joh...</td>\n",
       "    </tr>\n",
       "    <tr>\n",
       "      <th>14</th>\n",
       "      <td>celebrities start decorating for the christmas...</td>\n",
       "      <td>http://images.gmanews.tv/webpics/2016/11/640_2...</td>\n",
       "    </tr>\n",
       "    <tr>\n",
       "      <th>15</th>\n",
       "      <td>functions of government : 1 . form a more perf...</td>\n",
       "      <td>http://images.slideplayer.com/2/765769/slides/...</td>\n",
       "    </tr>\n",
       "    <tr>\n",
       "      <th>16</th>\n",
       "      <td>actor attends the premiere of season</td>\n",
       "      <td>https://media.gettyimages.com/photos/actress-k...</td>\n",
       "    </tr>\n",
       "    <tr>\n",
       "      <th>17</th>\n",
       "      <td>american football player on the field during j...</td>\n",
       "      <td>http://www.bostonherald.com/sites/default/file...</td>\n",
       "    </tr>\n",
       "    <tr>\n",
       "      <th>18</th>\n",
       "      <td>companies have gone to court for the right to lie</td>\n",
       "      <td>http://globe-views.com/dcim/dreams/court/court...</td>\n",
       "    </tr>\n",
       "    <tr>\n",
       "      <th>19</th>\n",
       "      <td>all shots by by person and rider shots can be ...</td>\n",
       "      <td>https://ep1.pinkbike.org/p4pb6973204/p4pb69732...</td>\n",
       "    </tr>\n",
       "  </tbody>\n",
       "</table>\n",
       "</div>"
      ],
      "text/plain": [
       "                                              caption  \\\n",
       "0                          a very typical bus station   \n",
       "1   sierra looked stunning in this top and this sk...   \n",
       "2   young confused girl standing in front of a war...   \n",
       "3   interior design of modern living room with fir...   \n",
       "4     cybernetic scene isolated on white background .   \n",
       "5   gangsta rap artist attends sports team vs play...   \n",
       "6   the jetty : different types of plants to estab...   \n",
       "7    traditional ornamental floral paisley bandanna .   \n",
       "8   # of the sports team skates against sports tea...   \n",
       "9   by geographical feature category or in the cit...   \n",
       "10  a flight was traveling when the animal got fre...   \n",
       "11  even though agricultural conditions are not id...   \n",
       "12  us state speaks during a demonstration thursday .   \n",
       "13         actor arrives for the premiere of the film   \n",
       "14  celebrities start decorating for the christmas...   \n",
       "15  functions of government : 1 . form a more perf...   \n",
       "16               actor attends the premiere of season   \n",
       "17  american football player on the field during j...   \n",
       "18  companies have gone to court for the right to lie   \n",
       "19  all shots by by person and rider shots can be ...   \n",
       "\n",
       "                                                  url  \n",
       "0   http://lh6.ggpht.com/-IvRtNLNcG8o/TpFyrudaT6I/...  \n",
       "1   http://78.media.tumblr.com/3b133294bdc7c7784b7...  \n",
       "2   https://media.gettyimages.com/photos/young-con...  \n",
       "3   https://thumb1.shutterstock.com/display_pic_wi...  \n",
       "4   https://thumb1.shutterstock.com/display_pic_wi...  \n",
       "5   https://media.gettyimages.com/photos/jayz-atte...  \n",
       "6   https://prismpub.com/wp-content/uploads/2016/1...  \n",
       "7   https://thumb1.shutterstock.com/display_pic_wi...  \n",
       "8   https://media.gettyimages.com/photos/bryan-mcc...  \n",
       "9   http://www.robinhoodshow.com/clients/17668/864...  \n",
       "10  http://i.dailymail.co.uk/i/pix/2016/08/10/15/3...  \n",
       "11  https://www.swissinfo.ch/image/40654192/3x2/10...  \n",
       "12  http://image.dailyfreeman.com/storyimage/DF/20...  \n",
       "13  https://media.gettyimages.com/photos/actor-joh...  \n",
       "14  http://images.gmanews.tv/webpics/2016/11/640_2...  \n",
       "15  http://images.slideplayer.com/2/765769/slides/...  \n",
       "16  https://media.gettyimages.com/photos/actress-k...  \n",
       "17  http://www.bostonherald.com/sites/default/file...  \n",
       "18  http://globe-views.com/dcim/dreams/court/court...  \n",
       "19  https://ep1.pinkbike.org/p4pb6973204/p4pb69732...  "
      ]
     },
     "execution_count": 4,
     "metadata": {},
     "output_type": "execute_result"
    }
   ],
   "source": [
    "# Read TSV files\n",
    "\n",
    "train_df = pd.read_table('../data/Train_GCC-training.tsv', header = None, names = ['caption', 'url'] )\n",
    "#validate_df = pd.read_table('../data/Validation_GCC 1.1.0-Validation.tsv', header = None, names = ['caption', 'url']) \n",
    "\n",
    "train_df.head(20)"
   ]
  },
  {
   "cell_type": "code",
   "execution_count": 5,
   "metadata": {},
   "outputs": [
    {
     "name": "stdout",
     "output_type": "stream",
     "text": [
      "1004775\n"
     ]
    }
   ],
   "source": [
    "# Get last stored index\n",
    "start_index = storage.get_last_stored_index(\"train\")\n",
    "print(start_index)"
   ]
  },
  {
   "cell_type": "code",
   "execution_count": null,
   "metadata": {},
   "outputs": [
    {
     "name": "stderr",
     "output_type": "stream",
     "text": [
      "/opt/conda/lib/python3.7/site-packages/PIL/TiffImagePlugin.py:788: UserWarning: Corrupt EXIF data.  Expecting to read 4 bytes but only got 0. \n",
      "  warnings.warn(str(msg))\n",
      "/opt/conda/lib/python3.7/site-packages/PIL/TiffImagePlugin.py:770: UserWarning: Possibly corrupt EXIF data.  Expecting to read 12 bytes but only got 10. Skipping tag 42037\n",
      "  \" Skipping tag %s\" % (size, len(data), tag)\n",
      "/opt/conda/lib/python3.7/site-packages/PIL/TiffImagePlugin.py:788: UserWarning: Corrupt EXIF data.  Expecting to read 2 bytes but only got 0. \n",
      "  warnings.warn(str(msg))\n",
      "/opt/conda/lib/python3.7/site-packages/PIL/TiffImagePlugin.py:590: UserWarning: Metadata Warning, tag 45057 had too many entries: 2, expected 1\n",
      "  % (tag, len(values))\n",
      "/opt/conda/lib/python3.7/site-packages/PIL/Image.py:932: UserWarning: Palette images with Transparency expressed in bytes should be converted to RGBA images\n",
      "  \"Palette images with Transparency expressed in bytes should be \"\n"
     ]
    }
   ],
   "source": [
    "# Extracts image and caption from tsv and store padded(image),caption and HTTPStatus code\n",
    "# into a train or validation hdf5 file\n",
    "\n",
    "# Set image size\n",
    "size = 300 , 300 \n",
    "\n",
    "# Extraction and Storage\n",
    "#extraction.request_data_and_store(validate_df, size, \"validate\", start_index) \n",
    "extraction.request_data_and_store(train_df, size, \"train\", start_index - 100)\n",
    " "
   ]
  },
  {
   "cell_type": "code",
   "execution_count": null,
   "metadata": {},
   "outputs": [],
   "source": [
    "# Reads the first couple captions and images stored in the validate/train hdf5 files\n",
    "def retrieve(set_name): \n",
    "    \n",
    "    for idx in range(10):\n",
    "        try:\n",
    "            status, image, caption = storage.read_image(set_name, idx)  \n",
    "            if (int(status) == 200):\n",
    "\n",
    "                print(image.shape)\n",
    "                print(caption)\n",
    "                plt.imshow(image)\n",
    "                plt.show()\n",
    "            \n",
    "        except KeyError:\n",
    "            # Ignores files not found - probably an HHTP error when requesting the URL\n",
    "            # Later - Keep count of the minning files to know the exact size of the dataset\n",
    "            print(\"Missing index - image not found - probably an HHTP error when requesting the URL \" + str(idx))\n",
    "            continue\n",
    "\n",
    "    return"
   ]
  },
  {
   "cell_type": "code",
   "execution_count": null,
   "metadata": {},
   "outputs": [],
   "source": [
    "retrieve(\"train\")"
   ]
  },
  {
   "cell_type": "code",
   "execution_count": null,
   "metadata": {},
   "outputs": [],
   "source": [
    "df = storage.get_statuses(\"train\")\n",
    "print(df[\"statuscode\"].value_counts())"
   ]
  },
  {
   "cell_type": "code",
   "execution_count": null,
   "metadata": {},
   "outputs": [],
   "source": []
  },
  {
   "cell_type": "code",
   "execution_count": null,
   "metadata": {},
   "outputs": [],
   "source": [
    "df = storage.get_statuses(\"validation\")"
   ]
  },
  {
   "cell_type": "code",
   "execution_count": null,
   "metadata": {},
   "outputs": [],
   "source": [
    "print(df[\"statuscode\"].unique().tolist())\n",
    "print(df[\"statuscode\"].value_counts().tolist())\n",
    "\n",
    "plt.hist(df[\"statuscode\"], bins = 18)\n",
    "plt.style.use('ggplot')\n",
    "plt.show()\n",
    "\n",
    "print(df[\"statuscode\"].value_counts())"
   ]
  },
  {
   "cell_type": "code",
   "execution_count": null,
   "metadata": {
    "scrolled": true
   },
   "outputs": [],
   "source": [
    "\n",
    "labels = df[\"statuscode\"].value_counts().keys().tolist()\n",
    "sizes = df[\"statuscode\"].value_counts().tolist()\n",
    "explode = np.zeros(18)\n",
    "explode[1:18] = 0.1\n",
    "\n",
    "fig1, ax1 = plt.subplots()\n",
    "ax1.pie(sizes, labels=labels, explode=explode, radius=4000, shadow=True, startangle=90)\n",
    "ax1.axis('equal')  # Equal aspect ratio ensures that pie is drawn as a circle.\n",
    "\n",
    "plt.show()"
   ]
  },
  {
   "cell_type": "code",
   "execution_count": null,
   "metadata": {},
   "outputs": [],
   "source": [
    "from itertools import islice\n",
    "df = pd.DataFrame(columns = ['statuscode'])\n",
    "df.astype({'statuscode': 'int32'})\n",
    "df[\"statuscode\"] = ['a','b','c','d','e','f','g','h','i','j','k','l']"
   ]
  },
  {
   "cell_type": "raw",
   "metadata": {},
   "source": [
    "\n",
    "\n"
   ]
  },
  {
   "cell_type": "code",
   "execution_count": null,
   "metadata": {},
   "outputs": [],
   "source": [
    "for index, row in islice(df[\"statuscode\"].iteritems(), 5, None):\n",
    "    print(str(index) +\"--\"+ row)"
   ]
  },
  {
   "cell_type": "code",
   "execution_count": null,
   "metadata": {},
   "outputs": [],
   "source": []
  }
 ],
 "metadata": {
  "kernelspec": {
   "display_name": "Python 3",
   "language": "python",
   "name": "python3"
  },
  "language_info": {
   "codemirror_mode": {
    "name": "ipython",
    "version": 3
   },
   "file_extension": ".py",
   "mimetype": "text/x-python",
   "name": "python",
   "nbconvert_exporter": "python",
   "pygments_lexer": "ipython3",
   "version": "3.7.7"
  }
 },
 "nbformat": 4,
 "nbformat_minor": 2
}
