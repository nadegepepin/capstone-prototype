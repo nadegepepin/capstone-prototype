{
 "cells": [
  {
   "cell_type": "code",
   "execution_count": null,
   "metadata": {},
   "outputs": [],
   "source": [
    "import pandas as pd\n",
    "import h5py\n",
    "from pathlib import Path\n",
    "import logging\n",
    "import logging.config\n",
    "import yaml\n",
    "import h5py\n",
    "import numpy as np\n",
    "import matplotlib.pyplot as plt\n",
    "from keras.preprocessing.image import  array_to_img, img_to_array\n",
    "import tensorflow.keras.backend as K\n",
    "import os\n",
    "\n",
    "\n",
    "import storage\n",
    "import extraction\n",
    "import captiongeneration\n",
    "\n",
    "%matplotlib inline"
   ]
  },
  {
   "cell_type": "code",
   "execution_count": 1,
   "metadata": {},
   "outputs": [],
   "source": [
    "import yaml\n",
    "import logging\n",
    "import logging.config\n",
    "def setupLogging():\n",
    "    with open('../config/logConfig.yml', 'rt') as file:\n",
    "        config = yaml.safe_load(file.read())\n",
    "        logging.config.dictConfig(config)"
   ]
  },
  {
   "cell_type": "code",
   "execution_count": 2,
   "metadata": {},
   "outputs": [],
   "source": [
    "setupLogging()\n",
    "logger = logging.getLogger()"
   ]
  },
  {
   "cell_type": "code",
   "execution_count": 4,
   "metadata": {},
   "outputs": [
    {
     "name": "stdout",
     "output_type": "stream",
     "text": [
      "2020-05-05 14:11:01,458 - INFO <PID 28:MainProcess> - MainThread - root - INFO - loading preprocessor\n",
      "2020-05-05 14:11:01,613 - INFO <PID 28:MainProcess> - MainThread - root - INFO - reading data for caption generation\n",
      "2020-05-05 14:11:05,372 - INFO <PID 28:MainProcess> - MainThread - root - INFO - loading inference init model\n",
      "2020-05-05 14:11:15,547 - INFO <PID 28:MainProcess> - MainThread - root - INFO - loading inference model\n",
      "2020-05-05 14:11:17,832 - DEBUG <PID 28:MainProcess> - MainThread - root - DEBUG - -------------Generated Caption---------------: [CLS]\n",
      "2020-05-05 14:11:18,297 - DEBUG <PID 28:MainProcess> - MainThread - root - DEBUG - Generated Word Index2\n",
      "2020-05-05 14:11:18,298 - DEBUG <PID 28:MainProcess> - MainThread - root - DEBUG - Generated Word[SEP]\n",
      "Generated Word Index2\n",
      "Generated Word[SEP]\n",
      "2020-05-05 14:11:18,300 - INFO <PID 28:MainProcess> - MainThread - root - INFO - Candidate Caption: = [SEP]\n",
      "generated\n",
      "[SEP]\n",
      "old\n",
      "mirror image : lonely kitten seeks comfort in the form of a cuddly cat\n"
     ]
    }
   ],
   "source": [
    "import captiongeneration\n",
    "\n",
    "generated_caption, caption, image = captiongeneration.caption_generation(\"train\", 100, 5)\n",
    "\n",
    "#plt.imshow(image)\n",
    "#plt.show()\n",
    "print(\"generated\")\n",
    "print(generated_caption)\n",
    "print(\"old\")\n",
    "print(caption)"
   ]
  },
  {
   "cell_type": "code",
   "execution_count": null,
   "metadata": {},
   "outputs": [],
   "source": [
    "# Reads captions and images stored in the validate/train hdf5 files from start_index to end_index\n",
    "def read_file(set_name, start_index, end_index): \n",
    "      \n",
    "    file_nb = storage.get_file_numbers(start_index, end_index)\n",
    "\n",
    "    for nb in range(file_nb[0], file_nb[1]+1):\n",
    "        file_path, lock_path = storage.get_path(set_name, nb)\n",
    "        start_idx = nb * storage.get_file_size() if nb > file_nb[0] else start_index\n",
    "        end_idx = (nb + 1) * storage.get_file_size() if nb < file_nb[1] else end_index\n",
    "\n",
    "        for idx in range(start_idx, end_idx):\n",
    "            try:\n",
    "                status, image, caption = storage.read_image(set_name, idx)  \n",
    "                if (int(status) == 200):\n",
    "\n",
    "                    print(image.shape)\n",
    "                    print(caption)\n",
    "                    print(image.dtype)\n",
    "\n",
    "                    x = image.reshape((1,) + image.shape)\n",
    "                    print(x.shape)\n",
    "                    plt.imshow(image)\n",
    "                    plt.show()\n",
    "\n",
    "            except KeyError:\n",
    "                # Ignores files not found - probably an HHTP error when requesting the URL\n",
    "                # Later - Keep count of the minning files to know the exact size of the dataset\n",
    "                print(\"Missing index - image not found - probably an HHTP error when requesting the URL \" + str(idx))\n",
    "                continue \n",
    "   \n",
    "\n",
    "    return"
   ]
  },
  {
   "cell_type": "code",
   "execution_count": null,
   "metadata": {},
   "outputs": [],
   "source": [
    "read_file(\"train\", 1, 3)\n",
    "\n",
    "   "
   ]
  },
  {
   "cell_type": "code",
   "execution_count": null,
   "metadata": {},
   "outputs": [],
   "source": [
    "# Reads status stored in the validate/train hdf5 files from start_index to end_index\n",
    "def read_status(set_name, start_index, end_index): \n",
    "      \n",
    "    file_nb = storage.get_file_numbers(start_index, end_index)\n",
    "    statuslist = []\n",
    "\n",
    "    for nb in range(file_nb[0], file_nb[1]+1):\n",
    "        file_path, lock_path = storage.get_path(set_name, nb)\n",
    "        start_idx = nb * storage.get_file_size() if nb > file_nb[0] else start_index\n",
    "        end_idx = (nb + 1) * storage.get_file_size() if nb < file_nb[1] else end_index\n",
    "\n",
    "        for idx in range(start_idx, end_idx):\n",
    "            try:\n",
    "                status, image, caption = storage.read_image(set_name, idx)  \n",
    "                statuslist.append(int(status))\n",
    "\n",
    "            except KeyError:\n",
    "                # Ignores files not found - probably an HHTP error when requesting the URL\n",
    "                # Later - Keep count of the minning files to know the exact size of the dataset\n",
    "                print(\"Missing index - image not found - probably an HHTP error when requesting the URL \" + str(idx))\n",
    "                continue \n",
    "   \n",
    "    return statuslist"
   ]
  },
  {
   "cell_type": "code",
   "execution_count": null,
   "metadata": {},
   "outputs": [],
   "source": [
    "df['status'] = pd.DataFrame(read_status(\"train\", 99910, 100099))\n",
    "print(df['status'].value_counts())\n",
    "\n",
    "plt.hist(df[\"status\"], bins = 18)\n",
    "plt.style.use('ggplot')\n",
    "plt.show()"
   ]
  },
  {
   "cell_type": "code",
   "execution_count": null,
   "metadata": {},
   "outputs": [],
   "source": [
    "a = [[ 9.4755635e-02,  3.1283161e-01, -6.7922041e-02,  6.4237791e-01,\n",
    "        2.2102470e+00, -5.1988786e-01, -9.8959517e-01,  3.5088462e-01,\n",
    "        3.0951893e+00, -3.8163280e-01, -1.6836199e+00, -5.8072060e-01,\n",
    "        1.4972074e+00,  3.3191606e-01,  1.0996586e+00,  4.2056244e-02,\n",
    "        4.6159565e-01,  2.0012915e+00, -2.6618072e-01, -8.4128553e-01,\n",
    "        1.2607530e-01,  1.5344251e+00, -1.5301496e-01, -4.7858629e-01,\n",
    "       -2.9338709e-01, -1.2825260e+00, -6.1470848e-01, -5.0824857e-01,\n",
    "        4.5474276e-01,  2.9351535e-01, -1.6820558e+00,  2.8028536e-01,\n",
    "        7.1510404e-02, -1.1397541e-01,  1.6877573e-03, -1.3896689e+00,\n",
    "       -7.1299994e-01, -5.5192190e-01,  1.3338147e+00,  9.0670723e-01,\n",
    "        2.6833752e-02, -1.1447647e+00, -1.4083545e+00, -4.1518590e-01,\n",
    "        1.0165511e+00,  2.6113531e-01,  6.4942271e-01, -1.2051920e+00,\n",
    "       -8.8982397e-01, -2.7181625e-01]]\n",
    "nparray(a).shape"
   ]
  },
  {
   "cell_type": "code",
   "execution_count": null,
   "metadata": {},
   "outputs": [],
   "source": [
    "import tensorflow as tf\n",
    "print(tf.__version__)\n"
   ]
  },
  {
   "cell_type": "code",
   "execution_count": null,
   "metadata": {},
   "outputs": [],
   "source": [
    "r = np.array((300,300,3))\n",
    "m = K.expand_dims(r, axis=0)"
   ]
  },
  {
   "cell_type": "code",
   "execution_count": null,
   "metadata": {},
   "outputs": [],
   "source": [
    "print(r.shape)\n",
    "print(m.shape)\n",
    "\n",
    "\n"
   ]
  },
  {
   "cell_type": "code",
   "execution_count": null,
   "metadata": {
    "scrolled": true
   },
   "outputs": [],
   "source": [
    "\n",
    "\n"
   ]
  },
  {
   "cell_type": "code",
   "execution_count": null,
   "metadata": {},
   "outputs": [],
   "source": [
    "a = ['a','b','c']\n",
    "print (a[:-1])"
   ]
  },
  {
   "cell_type": "raw",
   "metadata": {},
   "source": [
    "\n"
   ]
  },
  {
   "cell_type": "code",
   "execution_count": null,
   "metadata": {},
   "outputs": [],
   "source": []
  },
  {
   "cell_type": "code",
   "execution_count": null,
   "metadata": {},
   "outputs": [],
   "source": []
  }
 ],
 "metadata": {
  "kernelspec": {
   "display_name": "Python 3",
   "language": "python",
   "name": "python3"
  },
  "language_info": {
   "codemirror_mode": {
    "name": "ipython",
    "version": 3
   },
   "file_extension": ".py",
   "mimetype": "text/x-python",
   "name": "python",
   "nbconvert_exporter": "python",
   "pygments_lexer": "ipython3",
   "version": "3.7.7"
  }
 },
 "nbformat": 4,
 "nbformat_minor": 2
}
