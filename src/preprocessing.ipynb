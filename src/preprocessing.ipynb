{
 "cells": [
  {
   "cell_type": "code",
   "execution_count": 1,
   "metadata": {},
   "outputs": [
    {
     "name": "stderr",
     "output_type": "stream",
     "text": [
      "Using TensorFlow backend.\n"
     ]
    }
   ],
   "source": [
    "#import pandas as pd\n",
    "import numpy as np\n",
    "import logging\n",
    "#import re\n",
    "#import os\n",
    "#import codecs\n",
    "\n",
    "#import tensorflow as tf\n",
    "#import tensorflow_hub as hub\n",
    "#from tensorflow_hub import resolver\n",
    "#from keras import layers\n",
    "#from keras.models import Model\n",
    "#from bert import bert_tokenization\n",
    "\n",
    "import storage\n",
    "import preprocessing"
   ]
  },
  {
   "cell_type": "code",
   "execution_count": 2,
   "metadata": {},
   "outputs": [
    {
     "name": "stdout",
     "output_type": "stream",
     "text": [
      "/src/capstone/data/tf-hub-cache\r\n"
     ]
    }
   ],
   "source": [
    "!echo $TFHUB_CACHE_DIR\n",
    "\n",
    "BATCH_SIZE = 1000\n",
    "MAX_CAPTION = 35"
   ]
  },
  {
   "cell_type": "code",
   "execution_count": null,
   "metadata": {},
   "outputs": [],
   "source": [
    "#We are using BERT_URL = 'https://tfhub.dev/google/bert_uncased_L-12_H-768_A-12/1'"
   ]
  },
  {
   "cell_type": "markdown",
   "metadata": {},
   "source": [
    "# Preprocessing\n",
    "\n",
    "## The BERT layer requires 3 input sequence:\n",
    "\n",
    "<li> <b>Token ids</b>: for every token in the sentence, gets Id from BERT vocab dictionary. </li>\n",
    "<li> <b>Mask ids</b>: 1 for each token of the sentence, 0 otherwise. used for the sequence padding (so every sequence has the same length).</li>\n",
    "<li> <b>Segment ids</b>: 0 for first sentence of the sequence, 1 for the second... etc...</li>\n"
   ]
  },
  {
   "cell_type": "code",
   "execution_count": 7,
   "metadata": {},
   "outputs": [
    {
     "name": "stdout",
     "output_type": "stream",
     "text": [
      "INFO:tensorflow:Saver not created because there are no variables in the graph to restore\n"
     ]
    },
    {
     "name": "stderr",
     "output_type": "stream",
     "text": [
      "INFO:tensorflow:Saver not created because there are no variables in the graph to restore\n"
     ]
    },
    {
     "name": "stdout",
     "output_type": "stream",
     "text": [
      "INFO:tensorflow:Saver not created because there are no variables in the graph to restore\n"
     ]
    },
    {
     "name": "stderr",
     "output_type": "stream",
     "text": [
      "INFO:tensorflow:Saver not created because there are no variables in the graph to restore\n"
     ]
    },
    {
     "name": "stdout",
     "output_type": "stream",
     "text": [
      "(3, 35, 768)\n",
      "(3, 768)\n"
     ]
    }
   ],
   "source": [
    "# BERT Enbedding test\n",
    "module = preprocessing.import_BERT_pretrained_model()\n",
    "sentences = ['I prefer Python over Java', 'I like coding in Python', 'coding is fun']\n",
    "preprocess_captions = preprocessing.preprocess_sentences(sentences)\n",
    "out = preprocessing.BERT_embed(module, preprocess_captions)\n",
    "print(out['sequence_output'].shape)\n",
    "print(out['pooled_output'].shape)"
   ]
  },
  {
   "cell_type": "code",
   "execution_count": null,
   "metadata": {},
   "outputs": [],
   "source": []
  },
  {
   "cell_type": "code",
   "execution_count": 3,
   "metadata": {},
   "outputs": [
    {
     "name": "stdout",
     "output_type": "stream",
     "text": [
      "(300, 300, 3)\n",
      "a very typical bus station\n",
      "(300, 300, 3)\n",
      "sierra looked stunning in this top and this skirt while performing with person at their former university\n",
      "(300, 300, 3)\n",
      "young confused girl standing in front of a wardrobe\n",
      "(300, 300, 3)\n",
      "interior design of modern living room with fireplace in a new house\n",
      "(300, 300, 3)\n",
      "cybernetic scene isolated on white background .\n",
      "(300, 300, 3)\n",
      "gangsta rap artist attends sports team vs playoff game in the borough .\n",
      "(300, 300, 3)\n",
      "the jetty : different types of plants to establish a variety of ecosystems .\n",
      "(300, 300, 3)\n",
      "traditional ornamental floral paisley bandanna .\n",
      "(300, 300, 3)\n",
      "# of the sports team skates against sports team during their game .\n",
      "(300, 300, 3)\n",
      "a flight was traveling when the animal got free on tuesday night\n",
      "(300, 300, 3)\n",
      "even though agricultural conditions are not ideal for growing tobacco , there is indigenous production .\n",
      "(300, 300, 3)\n",
      "actor arrives for the premiere of the film\n",
      "(300, 300, 3)\n",
      "celebrities start decorating for the christmas season lifestyle\n",
      "(300, 300, 3)\n",
      "functions of government : 1 . form a more perfect union\n",
      "(300, 300, 3)\n",
      "actor attends the premiere of season\n",
      "(300, 300, 3)\n",
      "all shots by by person and rider shots can be found on his website .\n",
      "(300, 300, 3)\n",
      "photo of a deer and wildfire\n",
      "(300, 300, 3)\n",
      "high angle view of a businessman lying on a table and singing\n",
      "(300, 300, 3)\n",
      "this is real fast food !\n",
      "(300, 300, 3)\n",
      "safe deposit with money around it on a white background photo\n",
      "(300, 300, 3)\n",
      "dunes lay the blueprint for the back nine .\n",
      "(300, 300, 3)\n",
      "portrait of a smiling woman stroking her dog lying on couch\n",
      "(300, 300, 3)\n",
      "young business woman on a bench\n",
      "(300, 300, 3)\n",
      "american football player looks downfield during the second half of a football game against sports team\n",
      "(300, 300, 3)\n",
      "... and local people to deliver a new bridge\n",
      "(300, 300, 3)\n",
      "actor arrives to the premiere\n",
      "(300, 300, 3)\n",
      "funny animals of the week , animal pictures\n",
      "(300, 300, 3)\n",
      "the sign promises as much as the glorious blue sky .\n",
      "(300, 300, 3)\n",
      "architectural details of a bridge\n",
      "(300, 300, 3)\n",
      "people tour and enjoy the public park during summer\n",
      "(300, 300, 3)\n",
      "interesting 1930 's poster for a cosmetic company with stores .\n",
      "(300, 300, 3)\n",
      "racecar driver steers his car during video game subject .\n",
      "(300, 300, 3)\n",
      "vintage elegant floral card with frame decorated with black and white lilies on a pink background .\n",
      "(300, 300, 3)\n",
      "heavy snow falls over a snow lined river .\n",
      "(300, 300, 3)\n",
      "pop artist attends the 3rd annual at guest house\n",
      "(300, 300, 3)\n",
      "illustration of a map , its flag and a comic balloon with a soccer ball in a not allowed signal\n",
      "(300, 300, 3)\n",
      "rock artist performs on stage at awards held\n",
      "(300, 300, 3)\n",
      "green sea turtle isolated on a white background 3d illustration\n",
      "(300, 300, 3)\n",
      "person , was surprised by the staff\n",
      "(300, 300, 3)\n",
      "red and white flag on the mast\n",
      "(300, 300, 3)\n",
      "football player celebrates scoring for football team against football team in the final\n",
      "(300, 300, 3)\n",
      "concept plug - in hybrid car on display\n",
      "(300, 300, 3)\n",
      "a pencil drawing of a zebra and her baby .\n",
      "(300, 300, 3)\n",
      "airline -- reasons why person leads the way in experience\n",
      "(300, 300, 3)\n",
      "ninety per cent of the units have balconies with views .\n",
      "(300, 300, 3)\n",
      "a demonstration of a group of people practicing their rights\n",
      "(300, 300, 3)\n",
      "actor and daughters uk premiere held\n",
      "(300, 300, 3)\n",
      "a fine , grainy vector pattern in black and white .\n",
      "(300, 300, 3)\n",
      "seamless border of orange roses and paisley , pattern on a white background .\n",
      "(300, 300, 3)\n",
      "students in front of a school\n",
      "(300, 300, 3)\n",
      "river as it meets bodies of water where airline meets\n",
      "(300, 300, 3)\n",
      "young rock star jamming on a guitar\n",
      "(300, 300, 3)\n",
      "a moored fishing boat viewed from island .\n",
      "(300, 300, 3)\n",
      "vector illustration of person isolated on a white background\n",
      "(300, 300, 3)\n",
      "emergency services were called after a car smashed through a set of traffic lights\n",
      "(300, 300, 3)\n",
      "sheep with a black face fenced in on a winter day\n",
      "(300, 300, 3)\n",
      "a small park with flags and a yellow banner around a tree in support of troops\n",
      "(300, 300, 3)\n",
      "isolated water glass on a white background\n",
      "(300, 300, 3)\n",
      "when choosing your new outdoor color palette , opt for something that will enhance your home 's architectural style and give you plenty of curb appeal .\n",
      "(300, 300, 3)\n",
      "person at a corporate event\n",
      "(300, 300, 3)\n",
      "bulldozer on a building site\n",
      "(300, 300, 3)\n",
      "person finishes at the top\n",
      "(300, 300, 3)\n",
      "country shape animated on the satellite map of the globe\n",
      "(300, 300, 3)\n",
      "paths are clearly marked with signs like this .\n",
      "(300, 300, 3)\n",
      "putts for birdie on the second hole during the final round of the golf tournament .\n",
      "(300, 300, 3)\n",
      "person shot from a cliff looking out at the lake and horizon .\n",
      "(300, 300, 3)\n",
      "sending this angel your way ... it lights the way with it 's tiny candle .\n",
      "(300, 300, 3)\n",
      "i love the colours of her clothes .\n",
      "(300, 300, 3)\n",
      "a very simplified location and geological map of the area and adjacent coast\n",
      "(300, 300, 3)\n",
      "ask owner for photos of the car\n",
      "(300, 300, 3)\n",
      "the state of the world 's forests\n",
      "(300, 300, 3)\n",
      "the mountain slopes covered with powdery snow are popular with visitors , especially foreign tourists\n",
      "(300, 300, 3)\n",
      "farm tractor is moving on the field , cultivating land\n",
      "(300, 300, 3)\n",
      "master playing with his little golden retriever dog on the lawn\n",
      "(300, 300, 3)\n",
      "year later the small shrubs doubled in size .\n",
      "(300, 300, 3)\n",
      "according to the model , she regularly gets told it looks\n",
      "(300, 300, 3)\n",
      "person and the fiancee at their engagement party .\n",
      "(300, 300, 3)\n",
      "good night id been working like a dog i should be sleeping like a log\n",
      "(300, 300, 3)\n",
      "the water was never deeper than your chest .\n",
      "(300, 300, 3)\n",
      "twilight over italian gothic structure and the medieval town\n",
      "(300, 300, 3)\n",
      "simple custom leather pulls for your dresser , cabinets , or doors .\n",
      "(300, 300, 3)\n",
      "sunny woodland morning along river .\n",
      "(300, 300, 3)\n",
      "person , why u turn me on with your designs ? i believe i will bepinning some more of his work here in a bit .\n",
      "(300, 300, 3)\n",
      "pop artist performs on stage .\n",
      "(300, 300, 3)\n",
      "industrial plants in the distance at night\n",
      "(300, 300, 3)\n",
      "building and skyscraper light up at night\n",
      "(300, 300, 3)\n",
      "actor is an actor who started out as a lawyer .\n",
      "(300, 300, 3)\n",
      "color good with green couch in living room ... favorite ... i think maybe a little too peach ?\n",
      "(300, 300, 3)\n",
      "tree branches swing at real time with the wind while clouds move fast in time lapse\n",
      "(300, 300, 3)\n",
      "my coffee of the day !\n",
      "WARNING:tensorflow:From /src/capstone/src/preprocessing.py:24: The name tf.Session is deprecated. Please use tf.compat.v1.Session instead.\n",
      "\n"
     ]
    },
    {
     "name": "stderr",
     "output_type": "stream",
     "text": [
      "WARNING:tensorflow:From /src/capstone/src/preprocessing.py:24: The name tf.Session is deprecated. Please use tf.compat.v1.Session instead.\n",
      "\n"
     ]
    },
    {
     "name": "stdout",
     "output_type": "stream",
     "text": [
      "WARNING:tensorflow:From /src/capstone/src/preprocessing.py:25: The name tf.global_variables_initializer is deprecated. Please use tf.compat.v1.global_variables_initializer instead.\n",
      "\n"
     ]
    },
    {
     "name": "stderr",
     "output_type": "stream",
     "text": [
      "WARNING:tensorflow:From /src/capstone/src/preprocessing.py:25: The name tf.global_variables_initializer is deprecated. Please use tf.compat.v1.global_variables_initializer instead.\n",
      "\n"
     ]
    },
    {
     "name": "stdout",
     "output_type": "stream",
     "text": [
      "INFO:tensorflow:Saver not created because there are no variables in the graph to restore\n"
     ]
    },
    {
     "name": "stderr",
     "output_type": "stream",
     "text": [
      "INFO:tensorflow:Saver not created because there are no variables in the graph to restore\n"
     ]
    },
    {
     "name": "stdout",
     "output_type": "stream",
     "text": [
      "WARNING:tensorflow:From /src/capstone/src/preprocessing.py:35: The name tf.placeholder is deprecated. Please use tf.compat.v1.placeholder instead.\n",
      "\n"
     ]
    },
    {
     "name": "stderr",
     "output_type": "stream",
     "text": [
      "WARNING:tensorflow:From /src/capstone/src/preprocessing.py:35: The name tf.placeholder is deprecated. Please use tf.compat.v1.placeholder instead.\n",
      "\n"
     ]
    },
    {
     "name": "stdout",
     "output_type": "stream",
     "text": [
      "INFO:tensorflow:Saver not created because there are no variables in the graph to restore\n"
     ]
    },
    {
     "name": "stderr",
     "output_type": "stream",
     "text": [
      "INFO:tensorflow:Saver not created because there are no variables in the graph to restore\n"
     ]
    },
    {
     "name": "stdout",
     "output_type": "stream",
     "text": [
      "INFO:tensorflow:Saver not created because there are no variables in the graph to restore\n"
     ]
    },
    {
     "name": "stderr",
     "output_type": "stream",
     "text": [
      "INFO:tensorflow:Saver not created because there are no variables in the graph to restore\n"
     ]
    },
    {
     "name": "stdout",
     "output_type": "stream",
     "text": [
      "INFO:tensorflow:Saver not created because there are no variables in the graph to restore\n"
     ]
    },
    {
     "name": "stderr",
     "output_type": "stream",
     "text": [
      "INFO:tensorflow:Saver not created because there are no variables in the graph to restore\n"
     ]
    }
   ],
   "source": [
    "X, Y  = preprocessing.batch_generator(\"train\", 0, 100)"
   ]
  },
  {
   "cell_type": "code",
   "execution_count": 4,
   "metadata": {},
   "outputs": [
    {
     "data": {
      "text/plain": [
       "(90, 300, 300, 3)"
      ]
     },
     "execution_count": 4,
     "metadata": {},
     "output_type": "execute_result"
    }
   ],
   "source": [
    "X[\"image_input\"].shape"
   ]
  },
  {
   "cell_type": "code",
   "execution_count": 5,
   "metadata": {},
   "outputs": [
    {
     "data": {
      "text/plain": [
       "(90, 35, 768)"
      ]
     },
     "execution_count": 5,
     "metadata": {},
     "output_type": "execute_result"
    }
   ],
   "source": [
    "X[\"caption_input\"].shape"
   ]
  },
  {
   "cell_type": "code",
   "execution_count": 6,
   "metadata": {},
   "outputs": [
    {
     "data": {
      "text/plain": [
       "(90, 35, 768)"
      ]
     },
     "execution_count": 6,
     "metadata": {},
     "output_type": "execute_result"
    }
   ],
   "source": [
    "Y[\"output\"].shape"
   ]
  },
  {
   "cell_type": "code",
   "execution_count": null,
   "metadata": {},
   "outputs": [],
   "source": [
    "mymodel.fit([X[\"image_input\"],X[\"caption_input\"], a0, c0], Y[\"output\"], batch_size=X[\"image_input\"].shape[0], \n",
    "            steps_per_epoch=1, epochs=100, verbose=2)"
   ]
  },
  {
   "cell_type": "code",
   "execution_count": null,
   "metadata": {},
   "outputs": [],
   "source": []
  },
  {
   "cell_type": "code",
   "execution_count": null,
   "metadata": {},
   "outputs": [],
   "source": []
  },
  {
   "cell_type": "code",
   "execution_count": null,
   "metadata": {},
   "outputs": [],
   "source": []
  },
  {
   "cell_type": "code",
   "execution_count": null,
   "metadata": {},
   "outputs": [],
   "source": []
  },
  {
   "cell_type": "code",
   "execution_count": null,
   "metadata": {},
   "outputs": [],
   "source": [
    "vocabs = load_vocabulary(vocab_path)\n",
    "embeddings = extract_embeddings(model, text, output_layer_num=4, vocabs=vocabs, poolings=[POOL_NSP, POOL_MAX])"
   ]
  },
  {
   "cell_type": "code",
   "execution_count": null,
   "metadata": {},
   "outputs": [],
   "source": [
    "def embed_sentence(sentence, word_to_vec_map, Ty):\n",
    "    \n",
    "    # Step 1: Add a \".\" at the end of the sentence. It is our <EOS> element for now // FIX ME\n",
    "    p = re.compile('.*(\\.)$')\n",
    "    if not (p.match(sentence)):\n",
    "        sentence += \".\"\n",
    "    \n",
    "    # Step 2: Split the sentence into a list of lower case tokens\n",
    "    words = [i.lower() for i in word_tokenize(sentence)]   \n",
    "    sentence_size = len(words)\n",
    "    \n",
    "    # Initialize the embedding.\n",
    "    embedding = np.zeros((Ty,50))\n",
    "    \n",
    "    # Step 3: Loops over the token list.\n",
    "    i = 0\n",
    "    for idx, w in enumerate(words):\n",
    "        #The sentence is truncated whenlarger than Ty. The <EOS> character \".\" is added back.\n",
    "        if (i == Ty - 1):\n",
    "            embedding[i][:] = word_to_vec_map[\".\"] \n",
    "            break\n",
    "        try:\n",
    "            embedding[i][:] = word_to_vec_map[w]\n",
    "            i += 1\n",
    "        except KeyError:\n",
    "            # Ignores unknown words for now\n",
    "            continue\n",
    "    \n",
    "    return embedding"
   ]
  },
  {
   "cell_type": "code",
   "execution_count": null,
   "metadata": {},
   "outputs": [],
   "source": [
    "\n"
   ]
  },
  {
   "cell_type": "code",
   "execution_count": null,
   "metadata": {},
   "outputs": [],
   "source": []
  },
  {
   "cell_type": "code",
   "execution_count": null,
   "metadata": {},
   "outputs": [],
   "source": []
  },
  {
   "cell_type": "code",
   "execution_count": null,
   "metadata": {},
   "outputs": [],
   "source": []
  },
  {
   "cell_type": "code",
   "execution_count": null,
   "metadata": {},
   "outputs": [],
   "source": []
  },
  {
   "cell_type": "code",
   "execution_count": null,
   "metadata": {},
   "outputs": [],
   "source": []
  },
  {
   "cell_type": "code",
   "execution_count": null,
   "metadata": {},
   "outputs": [],
   "source": []
  },
  {
   "cell_type": "code",
   "execution_count": null,
   "metadata": {},
   "outputs": [],
   "source": []
  },
  {
   "cell_type": "code",
   "execution_count": null,
   "metadata": {},
   "outputs": [],
   "source": []
  },
  {
   "cell_type": "code",
   "execution_count": null,
   "metadata": {},
   "outputs": [],
   "source": []
  }
 ],
 "metadata": {
  "kernelspec": {
   "display_name": "Python 3",
   "language": "python",
   "name": "python3"
  },
  "language_info": {
   "codemirror_mode": {
    "name": "ipython",
    "version": 3
   },
   "file_extension": ".py",
   "mimetype": "text/x-python",
   "name": "python",
   "nbconvert_exporter": "python",
   "pygments_lexer": "ipython3",
   "version": "3.7.5"
  }
 },
 "nbformat": 4,
 "nbformat_minor": 2
}
